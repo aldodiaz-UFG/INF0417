{
 "cells": [
  {
   "cell_type": "markdown",
   "metadata": {},
   "source": [
    "# 1. Caça asteroides\n",
    "\n",
    "Você recebeu o desafio de ajudar o seu colega astrofísico na detecção de asteroides novos.\n",
    "\n",
    "A cada detecção de um novo asteoide você receberá como honra que ele tenha o seu nome.\n",
    "\n",
    "O caça-asteroides é um desafio aberto patrocinado pelo MCTI.\n",
    "\n",
    "[Leia mais sobre](https://cacaasteroidesmcti.com.br/)\n",
    "\n",
    "[.. e leia mais um pouco sobre](http://iasc.cosmosearch.org/Home/Astrometrica)\n",
    "\n",
    "[... ... e veja mais um tanto ainda :)](https://www.youtube.com/watch?v=EXvLYflwrCA&t=9s)"
   ]
  },
  {
   "cell_type": "code",
   "execution_count": null,
   "metadata": {
    "colab": {
     "base_uri": "https://localhost:8080/",
     "height": 356
    },
    "id": "zf_bW_lctVqa",
    "outputId": "1ce229a6-2f56-4219-8bec-530becde79b4"
   },
   "outputs": [],
   "source": [
    "from astropy.io import fits"
   ]
  },
  {
   "cell_type": "code",
   "execution_count": null,
   "metadata": {},
   "outputs": [],
   "source": [
    "# Abrir arquivo FITS\n",
    "dirname = 'XYp10'\n",
    "filename = 'XY64.fits'\n",
    "hdul = fits.open('./' + dirname + '/' + filename)"
   ]
  },
  {
   "cell_type": "code",
   "execution_count": null,
   "metadata": {},
   "outputs": [],
   "source": [
    "# Imprima informações sobre o arquivo FITS\n",
    "hdul.info()"
   ]
  },
  {
   "cell_type": "code",
   "execution_count": null,
   "metadata": {},
   "outputs": [],
   "source": [
    "# Acesse os dados do arquivo FITS\n",
    "img = hdul[0].data\n",
    "print(img)"
   ]
  },
  {
   "cell_type": "code",
   "execution_count": null,
   "metadata": {},
   "outputs": [],
   "source": [
    "header = hdul[0].header\n",
    "print(header)"
   ]
  },
  {
   "cell_type": "code",
   "execution_count": null,
   "metadata": {},
   "outputs": [],
   "source": [
    "# Feche o arquivo FITS\n",
    "hdul.close()"
   ]
  },
  {
   "cell_type": "markdown",
   "metadata": {
    "id": "mQeQ2xR0vdtF"
   },
   "source": [
    "Entendendo o formato do arquivo e o que está contido nele que pode ser interessante para análise"
   ]
  },
  {
   "cell_type": "markdown",
   "metadata": {
    "id": "j0OFwZv_xkPv"
   },
   "source": [
    "No.: É o número de HDU. Neste caso, há apenas um HDU, então é listado como 0.\n",
    "\n",
    "Name: É o nome do HDU. Neste caso, o nome é XY64.hdr.\n",
    "\n",
    "Ver: Refere-se à versão do HDU. Para o HDU primário, a versão geralmente é 1.\n",
    "\n",
    "Type: Indica o tipo de HDU. Neste caso, é um PrimaryHDU, o que significa que é o HDU primário do arquivo FITS.\n",
    "\n",
    "Cards: É o número de cartões no cabeçalho. O cabeçalho contém metadados que descrevem os dados armazenados no HDU. No caso deste arquivo FITS, o cabeçalho contém 623 cartões.\n",
    "\n",
    "Dimensions: São as dimensões dos dados armazenados no HDU. Neste exemplo, os dados têm dimensões de (2423, 2434), o que significa que é uma matriz bidimensional com 2423 linhas e 2434 colunas.\n",
    "\n",
    "Format: Refere-se ao formato dos dados armazenados no HDU. No caso deste exemplo, os dados são armazenados como int16, o que significa que são números inteiros de 16 bits. Além disso, há uma indicação de que os dados são \"rescaled to uint16\", o que sugere que os dados podem ser reescalados para o tipo uint16 (números inteiros sem sinal de 16 bits) quando são lidos ou interpretados. Isso é comum para garantir que os dados estejam no formato correto para processamento ou visualização."
   ]
  },
  {
   "cell_type": "markdown",
   "metadata": {},
   "source": [
    "## Desafio\n",
    "Analise o dataset a fim de revelar as informacoes contidas nele"
   ]
  },
  {
   "cell_type": "markdown",
   "metadata": {},
   "source": [
    "# 2. Raios X\n",
    "Você recebeu o seguinte email do seu colega de startup.\n",
    "\n",
    "Leia ele e forneça uma solução simples para sua demanda.\n",
    "\n",
    "Dica: Leia GONZALEZ, na seção sobre \"Order-Statistic (Nonlinear) Filters\"\n",
    "\n",
    "![](img/email.png)"
   ]
  },
  {
   "cell_type": "code",
   "execution_count": null,
   "metadata": {},
   "outputs": [],
   "source": []
  }
 ],
 "metadata": {
  "colab": {
   "include_colab_link": true,
   "provenance": []
  },
  "kernelspec": {
   "display_name": "Python 3 (ipykernel)",
   "language": "python",
   "name": "python3"
  },
  "language_info": {
   "codemirror_mode": {
    "name": "ipython",
    "version": 3
   },
   "file_extension": ".py",
   "mimetype": "text/x-python",
   "name": "python",
   "nbconvert_exporter": "python",
   "pygments_lexer": "ipython3",
   "version": "3.10.12"
  }
 },
 "nbformat": 4,
 "nbformat_minor": 4
}
