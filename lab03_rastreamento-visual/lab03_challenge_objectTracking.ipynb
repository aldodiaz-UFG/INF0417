{
 "cells": [
  {
   "cell_type": "markdown",
   "id": "8e7c7474-5910-4d5a-8264-6f82aa5b8925",
   "metadata": {},
   "source": [
    "# INF0417 - Computer Vision\n",
    "## Object Tracking challenge\n",
    "\n",
    "Explore the OpenCV API Tracker Class to solve this tracking challenge!\n",
    "\n",
    "1. BOOSTING\n",
    "2. MIL\n",
    "3. KCF\n",
    "4. CRST\n",
    "5. TLD\n",
    " * Tends to recover from occulusions\n",
    "6. MEDIANFLOW\n",
    " * Good for predictable slow motion\n",
    "7. GOTURN\n",
    " * Deep Learning based\n",
    " * Most Accurate\n",
    "8. MOSSE\n",
    " * Fastest\n",
    "\n",
    "## Goal\n",
    "\n",
    "Given the initial location of an object, track location in subsequent frames\n",
    "\n",
    "![Object Tracking](https://learnopencv.com/wp-content/uploads/2023/03/opencv_bootcamp_NB11_race_car_tracking.png)"
   ]
  },
  {
   "cell_type": "code",
   "execution_count": 5,
   "id": "94414243-3387-439b-b556-6b2f31b77535",
   "metadata": {},
   "outputs": [],
   "source": [
    "import os\n",
    "from urllib.request import urlretrieve"
   ]
  },
  {
   "cell_type": "code",
   "execution_count": 6,
   "id": "b8904299-b5e3-49df-83e4-c6245c5c6257",
   "metadata": {},
   "outputs": [],
   "source": [
    "def download_and_unzip(url, save_path):\n",
    "    print(f\"Downloading and extracting assests....\", end=\"\")\n",
    "\n",
    "    # Downloading zip file using urllib package.\n",
    "    urlretrieve(url, save_path)\n",
    "\n",
    "    try:\n",
    "        # Extracting zip file using the zipfile package.\n",
    "        with ZipFile(save_path) as z:\n",
    "            # Extract ZIP file contents in the same directory.\n",
    "            z.extractall(os.path.split(save_path)[0])\n",
    "\n",
    "        print(\"Done\")\n",
    "\n",
    "    except Exception as e:\n",
    "        print(\"\\nInvalid file.\", e)"
   ]
  },
  {
   "cell_type": "code",
   "execution_count": 7,
   "id": "b54cddcc-2910-439f-95b2-d8225cd9a9c3",
   "metadata": {},
   "outputs": [
    {
     "name": "stdout",
     "output_type": "stream",
     "text": [
      "Downloading and extracting assests....\n",
      "Invalid file. name 'ZipFile' is not defined\n"
     ]
    }
   ],
   "source": [
    "URL = r\"https://www.dropbox.com/s/ld535c8e0vueq6x/opencv_bootcamp_assets_NB11.zip?dl=1\"\n",
    "\n",
    "asset_zip_path = os.path.join(os.getcwd(), \"opencv_bootcamp_assets_NB11.zip\")\n",
    "\n",
    "# Download if assest ZIP does not exists.\n",
    "if not os.path.exists(asset_zip_path):\n",
    "    download_and_unzip(URL, asset_zip_path)"
   ]
  },
  {
   "cell_type": "code",
   "execution_count": null,
   "id": "c6ff9976-a4a0-4195-b83f-43381c1381f6",
   "metadata": {},
   "outputs": [],
   "source": []
  }
 ],
 "metadata": {
  "kernelspec": {
   "display_name": "Python 3 (ipykernel)",
   "language": "python",
   "name": "python3"
  },
  "language_info": {
   "codemirror_mode": {
    "name": "ipython",
    "version": 3
   },
   "file_extension": ".py",
   "mimetype": "text/x-python",
   "name": "python",
   "nbconvert_exporter": "python",
   "pygments_lexer": "ipython3",
   "version": "3.10.12"
  }
 },
 "nbformat": 4,
 "nbformat_minor": 5
}
