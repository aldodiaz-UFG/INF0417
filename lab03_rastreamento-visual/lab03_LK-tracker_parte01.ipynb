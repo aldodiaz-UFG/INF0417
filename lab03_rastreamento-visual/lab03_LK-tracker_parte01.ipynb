{
 "cells": [
  {
   "cell_type": "markdown",
   "id": "040f4953",
   "metadata": {},
   "source": [
    "# INF0417 - Visão computacional\n",
    "## Lab3 - Rastreamento visual"
   ]
  },
  {
   "cell_type": "markdown",
   "id": "ac32a10f",
   "metadata": {},
   "source": [
    "# 1. Introdução\n",
    "\n",
    "Neste laboratório você implementará a versão original do famoso algoritmo para rastreamento de features de Lucas-Kanade, o **LK-tracker**. \\\n",
    "A menos que seja implementado com operações de baixo nível, o LK-tracker se torna computacionalmente restritivo se tentarmos rastrear cada píxel na imagem. \\\n",
    "Assim, nesta atividade vamos restringir a tarefa de rastreamento a somente uma única região por vez (centrada ao redor de um píxel). \\\n",
    "Isso significa que a escolha do píxel a ser rastreado deve ser feita *\"sabiamente\"*. \\\n",
    "Além disso, devido à sua estreita relação com o LK-tracker, também incorporaremos o **detector de Harris** (*aka.*, Harris-Stephens detector) para encontrar *\"automaticamente\"* features *\"boas\"* de serem rastreadas."
   ]
  },
  {
   "cell_type": "markdown",
   "id": "73801a36",
   "metadata": {},
   "source": [
    "## 1.1 Preparação\n",
    "\n",
    "Como preparação para este laboratório, você deverá ler este guia e completar as atividades marcadas com **estrela (*)**. \\\n",
    "Parte da preparação consiste em ler e entender o artigo simplificado do rastreador LK-tracker [\"Derivation of the Lucas-Kanade Tracker\"](./references/2007%20-%20LK-derivation.pdf) \\[1\\]. \\\n",
    "Vamos a utilizar a mesma notação do artigo ao fazer perguntas sobre uma expressão em específico ou uma variável, *e.g.*, $T$. \\\n",
    "Para completar os exercícios a tempo, é importante estar familiarizado com os diferentes passos envolvidos no algoritmo de rastreamento LK-tracker.\n",
    "\n",
    "O laboratório será implementado em Python Notebook (não use Google colab!). \\\n",
    "Na sala de laboratório do INF, você pode executar o Python desde o prompt no shell do `Ubuntu App`. \\\n",
    "Use `python3 <meu_script>.py` para executar um script Python ou, preferencialmente, trabalhe com uma IDE como `vscode` ou `pycharm`. \\\n",
    "Se você utiliza múltiplos scripts (recomendado) poderá salvar e carregar dados utilizando o pacote `pickle` ou `np.save/load`. \\\n",
    "Para um trabalho mais interativo, você também pode usar `ipython3`, que permite auto-completar comandos com tabs e também conta com  destaque de sintaxe.\n",
    "\n",
    "Adicionando `from INF0417_labs import lab3` nos seus scripts, você poderá usar o código de suporte para este laboratório. \\\n",
    "Este código inclui funções auxiliares, tais como `lab3.load_lab_image` e `lab3.get_cameraman`. \\\n",
    "Use `help(lab3)` para obter uma descrição deste pacote.\n",
    "\n",
    "**Dica**: Bugs, em códigos científicos, são fáceis de introduzir, mas difíceis de achar. \\\n",
    "São práticas recomendadas:\n",
    "- Ler a documentação das funções que você usa e;\n",
    "- Escrever códigos de teste que verifique que elas se comportem conforme o esperado.\n",
    "\n",
    "**Preste atenção** para não confundir as indexações $(x,y)$ e $(\\text{linha}, \\text{coluna})$, pois você provavelmente usará ambas neste laboratório. \\\n",
    "Em laboratórios futuros, usaremos a $nD$-indexação, com exponencialmente mais maneiras de cometer tais erros."
   ]
  },
  {
   "cell_type": "code",
   "execution_count": null,
   "id": "9fc7f8d4",
   "metadata": {},
   "outputs": [],
   "source": [
    "from INF0417_labs import lab3\n",
    "import numpy as np\n",
    "import matplotlib.pyplot as plt\n",
    "from matplotlib.colors import ListedColormap\n",
    "\n",
    "# Mapa de cores verde-preto-vermelho para os gradientes\n",
    "gkr_col = np.zeros((255, 4))\n",
    "gkr_col[:, 3] = 1\n",
    "gkr_col[:127, 1] = np.linspace(1.0, 0.0, 127, False)\n",
    "gkr_col[127:, 0] = np.linspace(0.0, 1.0, 128, True)\n",
    "gkr_col = ListedColormap(gkr_col)\n",
    "\n",
    "# cameraman\n",
    "I, J, dTrue = lab3.get_cameraman()\n",
    "plt.figure()\n",
    "plt.imshow(I, cmap='gray')\n",
    "plt.show()\n",
    "\n",
    "# cornertest\n",
    "img = lab3.load_lab_image('cornertest.png')\n",
    "plt.figure()\n",
    "plt.imshow(img, cmap='gray')\n",
    "plt.show()"
   ]
  },
  {
   "cell_type": "markdown",
   "id": "6272a31f",
   "metadata": {},
   "source": [
    "# 2. Esboço do algoritmo\n",
    "\n",
    "Como preparativos, começaremos este laboratório tendo uma estratégia clara sobre como abordar o problema de rastreamento."
   ]
  },
  {
   "cell_type": "markdown",
   "id": "d624fa28",
   "metadata": {},
   "source": [
    "**\\* Pergunta de preparação**: Desenhe um diagrama de blocos que sintetize os principais passos do algoritmo LK-tracker."
   ]
  },
  {
   "cell_type": "code",
   "execution_count": null,
   "id": "57f44800",
   "metadata": {},
   "outputs": [],
   "source": [
    "# Escreva aqui sua resposta"
   ]
  },
  {
   "cell_type": "markdown",
   "id": "ef63ad16",
   "metadata": {},
   "source": [
    "**\\* Pergunta de preparação**: Escreva a equação final requerida para atualização do deslocamento."
   ]
  },
  {
   "cell_type": "code",
   "execution_count": null,
   "id": "fc3c2401",
   "metadata": {},
   "outputs": [],
   "source": [
    "# Escreva aqui sua resposta"
   ]
  },
  {
   "cell_type": "markdown",
   "id": "50004079",
   "metadata": {},
   "source": [
    "**\\* Pergunta de preparação**: Usando a notação em \\[1\\], explique o que é $T$?"
   ]
  },
  {
   "cell_type": "code",
   "execution_count": null,
   "id": "b4d8837a",
   "metadata": {},
   "outputs": [],
   "source": [
    "# Escreva aqui sua resposta"
   ]
  },
  {
   "cell_type": "markdown",
   "id": "535a8b92",
   "metadata": {},
   "source": [
    "**\\* Pergunta de preparação**: O que é requerido de $T$, para que a equação final seja resolvida?"
   ]
  },
  {
   "cell_type": "code",
   "execution_count": null,
   "id": "f1180610",
   "metadata": {},
   "outputs": [],
   "source": [
    "# Escreva aqui sua resposta"
   ]
  },
  {
   "cell_type": "markdown",
   "id": "bfa65337",
   "metadata": {},
   "source": [
    "**\\* Pergunta de preparação**: Dado o seu entendimento sobre o [problema da apertura](https://youtu.be/vVGorOxMh8w) ([vídeo offline](./videos/aperture-problem.mp4)) e a resposta à pergunta anterior, o que deveria caracterizar um píxel (ou região) escolhido para o rastreamento?"
   ]
  },
  {
   "cell_type": "code",
   "execution_count": null,
   "id": "c92de72e",
   "metadata": {},
   "outputs": [],
   "source": [
    "# Escreva aqui sua resposta"
   ]
  },
  {
   "cell_type": "markdown",
   "id": "881e87a5",
   "metadata": {},
   "source": [
    "# 3. O rastreador de Lucas-Kanade\n",
    "\n",
    "Nesta seção você implementará os blocos necessários para crear seu LK-tracker."
   ]
  },
  {
   "cell_type": "markdown",
   "id": "fe7b06ff",
   "metadata": {},
   "source": [
    "## 3.1 Gradiente regularizado\n",
    "\n",
    "Começamos estimando todas as incógnitas na equação do LK-tracker. \\\n",
    "É útil ter uma função que estime todas elas para garantir que todas tenham a mesma regularização. \\\n",
    "Implemente uma função que tenha como entradas o tamanho do filtro e um desvio padrão e, retorne o *gradiente regularizado* e imagens compatíveis. \\\n",
    "Uma possível função protótipo é:\n",
    "\n",
    "`gradiente_regularizado(I, J, kernel_size, sigma) -> Ig, Jg, Jgdx, Jgdy`\n",
    "\n",
    "Entradas:\n",
    "- `I`          : Imagem $I$\n",
    "- `J`          : Imagem $J$\n",
    "- `kernel_size`: Tamanho do filtro $g(\\sigma)$ de ordem $N=$ `kernel_size`\n",
    "- `sigma`      : Desvio padrão de $g(\\sigma)$\n",
    "\n",
    "Saída:\n",
    "- `Ig`  : $I * g(\\sigma)$\n",
    "- `Jg`  : $J * g(\\sigma)$\n",
    "- `Jgdx`: $\\frac{\\partial }{\\partial x}(J * g(\\sigma))$\n",
    "- `Jgdy`: $\\frac{\\partial }{\\partial y}(J * g(\\sigma))$\n",
    "\n",
    "**Dica**: Isso foi discutido no laboratório [`INF0417_python-tutorial.ipynb`](https://github.com/aldodiaz-UFG/INF0417/blob/main/lab01_tutorial-python/lab01_python-tutorial.ipynb) e em \\[1\\]."
   ]
  },
  {
   "cell_type": "code",
   "execution_count": null,
   "id": "de223b94",
   "metadata": {},
   "outputs": [],
   "source": [
    "# Escreva aqui sua resposta\n",
    "from scipy.signal import convolve2d as conv2\n",
    "\n",
    "def gradiente_regularizado(I, J, kernel_size, sigma):\n",
    "    ...\n",
    "    \n",
    "    Ig   = conv2(conv2(I, g, mode='same'), g.T, mode='same') # Imagem filtrada I * g\n",
    "    Jg   = conv2(conv2(J, g, mode='same'), g.T, mode='same') # Imagem filtrada J * g\n",
    "    Jgdx = conv2(conv2(J, df, mode='same'), g.T, mode='same') # Gradiente regularizado de J na horizontal\n",
    "    Jgdy = conv2(conv2(J, df.T, mode='same'), g, mode='same') # Gradiente regularizado de J na vertical\n",
    "    \n",
    "    return Ig, Jg, Jgdx, Jgdy"
   ]
  },
  {
   "cell_type": "code",
   "execution_count": null,
   "id": "b1fa9148",
   "metadata": {},
   "outputs": [],
   "source": [
    "kernel_size = 15\n",
    "sigma = 0.5\n",
    "Ig, Jg, Jgdx, Jgdy = gradiente_regularizado(I, J, kernel_size, sigma)"
   ]
  },
  {
   "cell_type": "code",
   "execution_count": null,
   "id": "50b33d8c",
   "metadata": {},
   "outputs": [],
   "source": [
    "plt.figure(figsize=(20, 10))\n",
    "plt.subplot(1, 4, 1)\n",
    "plt.imshow(Ig, cmap='gray')\n",
    "plt.subplot(1, 4, 2)\n",
    "plt.imshow(Jg, cmap='gray')\n",
    "plt.subplot(1, 4, 3)\n",
    "plt.imshow(Jgdx, vmin=-100, vmax=100, cmap=gkr_col)\n",
    "plt.subplot(1, 4, 4)\n",
    "plt.imshow(Jgdy, vmin=-100, vmax=100, cmap=gkr_col)\n",
    "plt.show()"
   ]
  },
  {
   "cell_type": "markdown",
   "id": "5ac0313f",
   "metadata": {},
   "source": [
    "## 3.2 Estimando $T$\n",
    "\n",
    "Você precisará implementar uma função que estime o *\"tensor de orientação\"* para uma região específica. \\\n",
    "Construa a função o mais geral possível, *i.e.*, que permita diferentes tamanhos de janela e também janelas não quadradas. \\\n",
    "Uma possível função protótipo é:\n",
    "\n",
    "`estimar_T(Jgdx, Jgdy, x, y, window_size) -> T`\n",
    "\n",
    "Entradas:\n",
    "- `Jgdx`: $\\frac{\\partial }{\\partial x}(J * g(\\sigma))$\n",
    "- `Jgdy`: $\\frac{\\partial }{\\partial y}(J * g(\\sigma))$\n",
    "- `x`, `y`: Coordenadas horizontal e vertical do centro da janela\n",
    "- `window_size`: Tupla contendo o tamanho da janela nos eixos $(x,y)$\n",
    "\n",
    "Saída:\n",
    "- `T`: Tensor de estrutura"
   ]
  },
  {
   "cell_type": "code",
   "execution_count": null,
   "id": "e7cdcac6",
   "metadata": {},
   "outputs": [],
   "source": [
    "# Escreva aqui sua resposta\n",
    "\n",
    "def estimar_T(Jgdx, Jgdy, x, y, window_size):\n",
    "    half_window = ...\n",
    "    max_y, max_x = ...\n",
    "    lower_y = ...\n",
    "    upper_y = ...\n",
    "    lower_x = ...\n",
    "    upper_x = ...\n",
    "    \n",
    "    x_window = Jgdx[lower_y:upper_y, lower_x:upper_x]\n",
    "    y_window = Jgdy[lower_y:upper_y, lower_x:upper_x]\n",
    "   \n",
    "    T = np.zeros((2,2))\n",
    "    \n",
    "    T11 = np.sum(np.multiply(, ))\n",
    "    T22 = np.sum(np.multiply(, ))\n",
    "    T12 = np.sum(np.multiply(, ))\n",
    "    T21 = ...\n",
    "    \n",
    "    T[0,0] = ...\n",
    "    T[1,1] = ...\n",
    "    T[0,1] = ...\n",
    "    T[1,0] = ...\n",
    "    \n",
    "    return T"
   ]
  },
  {
   "cell_type": "code",
   "execution_count": null,
   "id": "a10bb20d",
   "metadata": {},
   "outputs": [],
   "source": [
    "T = estimar_T(Jgdx, Jgdy, 85, 120, (70, 40))"
   ]
  },
  {
   "cell_type": "code",
   "execution_count": null,
   "id": "c785a9a5-5fe9-44f5-8038-64e59b034dca",
   "metadata": {},
   "outputs": [],
   "source": [
    "import cv2 as cv2\n",
    "\n",
    "Itemp = I.copy()\n",
    "_ = cv2.rectangle(Itemp, (x, y), (x+window_size[0], y+window_size[1]), (255, 0, 0), 2)\n",
    "\n",
    "plt.figure()\n",
    "plt.imshow(Itemp)\n",
    "plt.show()"
   ]
  },
  {
   "cell_type": "markdown",
   "id": "2134e758",
   "metadata": {},
   "source": [
    "## 3.3 Função de diferenças\n",
    "\n",
    "Para atualizar o deslocamento com as equações do LK-tracker precisamos estimar o vetor $e$ para uma região específica. \\\n",
    "Implemente uma função que faça isso.\n",
    "Faça esta função o mais geral possível, *i.e.*, que permita diferentes tamanhos de janela e também janelas não quadradas. \\\n",
    "Uma possível função protótipo é:\n",
    "\n",
    "`estimar_e(Ig, Jg, Jgdx, Jgdy, x, y, window_size) -> e`"
   ]
  },
  {
   "cell_type": "code",
   "execution_count": null,
   "id": "0dc04d4b",
   "metadata": {},
   "outputs": [],
   "source": [
    "# Escreva aqui sua resposta\n",
    "\n",
    "def estimar_e(Ig, Jg, Jgdx, Jgdy, x, y, window_size):\n",
    "    half_window = ...\n",
    "    max_y, max_x = ...\n",
    "    lower_y = ...\n",
    "    upper_y = ...\n",
    "    lower_x = ...\n",
    "    upper_x = ...\n",
    "    \n",
    "    x_window = Jgdx[lower_y:upper_y, lower_x:upper_x]\n",
    "    y_window = Jgdy[lower_y:upper_y, lower_x:upper_x]\n",
    "   \n",
    "    e = np.zeros((2,1))\n",
    "    \n",
    "    e1 = np.sum(np.multiply(, ))\n",
    "    e2 = np.sum(np.multiply(, ))\n",
    "    \n",
    "    e[0] = e1\n",
    "    e[1] = e2\n",
    "    \n",
    "    return e"
   ]
  },
  {
   "cell_type": "code",
   "execution_count": null,
   "id": "54b48db5",
   "metadata": {},
   "outputs": [],
   "source": [
    "e = estimar_e(Ig, Jg, Jgdx, Jgdy, 85, 120, (70, 40))"
   ]
  },
  {
   "cell_type": "markdown",
   "id": "aea2c1c7",
   "metadata": {},
   "source": [
    "## 3.4 Função de interpolação\n",
    "\n",
    "Durante as iterações de gradiente descendente, é evidente que precisamos obter valores de intensidade para coordenadas de píxel não inteiras. \\\n",
    "Você deve implementar uma função que dê conta disso. \\\n",
    "Crie uma função que retorne valores de intensidade interpolados para todas as posições de sub-píxel especificadas por uma região de interesse. \\\n",
    "Você pode implementar mais de uma função de interpolação, porém não será necessário para passar esta tarefa.\n",
    "\n",
    "**Dica**: Use [`scipy.interpolate.RectBivariateSpline`](https://docs.scipy.org/doc/scipy/reference/generated/scipy.interpolate.RectBivariateSpline.html) para obter uma função de interpolação:\n",
    "\n",
    "`imgc = RectBivariateSpline(np.arange(img.shape[0]), np.arange(img.shape[1]), img)`"
   ]
  },
  {
   "cell_type": "markdown",
   "id": "d7ff4294",
   "metadata": {},
   "source": [
    "**\\* Passo de preparação**: Use `RectBivariateSpline` para definir um objeto de interpolação para uma imagem.\n",
    "Use seu novo objeto para recortar regiões de interesse em uma imagem de teste.\n",
    "Certifique-se de entender completamente a estrutura da chamada."
   ]
  },
  {
   "cell_type": "code",
   "execution_count": null,
   "id": "35e6b6f0",
   "metadata": {},
   "outputs": [],
   "source": [
    "# Escreva aqui sua resposta\n",
    "\n",
    "import scipy\n",
    "\n",
    "def interp_spline(xcoords, ycoords, Jg):\n",
    "    ...\n",
    "    \n",
    "    return imgc"
   ]
  },
  {
   "cell_type": "markdown",
   "id": "acf61572",
   "metadata": {},
   "source": [
    "## 3.5 Finalizando o LK tracker\n",
    "\n",
    "Agora que você tem todos os blocos constituintes (a função de derivadas regularizadas, a função do tensor de orientação, a função de diferenças e a função de interpolação) você está na capacidade de poder finalizar o seu LK tracker.\n",
    "O que você precisa basicamente é resolver a ***equação do deslocamento*** e um laço de controle que atualize o vetor de deslocamento até que um ***critério de parada*** seja atingido, seja por um erro suficientemente pequeno, ou por número máximo de iterações alcançado.\n",
    "Informe com uma mensagem caso um dos critérios for atingido.\n",
    "Mostre na tela a evolução da estimativa do deslocamento a cada passo.\n",
    "Uma possível função protótipo é:\n",
    "\n",
    "`estimar_d(I, J, x, y, window_size, kernel_size, sigma, maxIter, minErr) -> d_total`\n",
    "\n",
    "**Dica:** Use `np.linalg.solve` para resolver um sistema de equações lineares."
   ]
  },
  {
   "cell_type": "code",
   "execution_count": null,
   "id": "d0b31f31",
   "metadata": {},
   "outputs": [],
   "source": [
    "# Escreva aqui sua resposta\n",
    "\n",
    "def estimar_d(I, J, x, y, window_size, kernel_size, sigma, maxIter=100, minErr=0.01):\n",
    "    d_total = np.zeros((2, 1))\n",
    "\n",
    "    height, width = ...\n",
    "    ycoords, xcoords = ...\n",
    "    \n",
    "    Ig, Jg, Jgdx, Jgdy = gradiente_regularizado(..., ..., ..., ...)\n",
    "    Jgd = ...\n",
    "    Jgdxd = ...\n",
    "    Jgdyd = ...\n",
    "    \n",
    "    for step in range(maxIter):\n",
    "        T = ...\n",
    "        e = ...\n",
    "        d = ...\n",
    "        d_total = ...\n",
    "        \n",
    "        print('passo %02d          : ' % step, tuple(d_total.ravel()))\n",
    "        if step == maxIter-1:\n",
    "            print('Número máximo de iterações atingido')\n",
    "        \n",
    "        if np.linalg.norm(d) < minErr:\n",
    "            print('Erro mínimo atingido')\n",
    "            break\n",
    "        \n",
    "        xcoords_interp = np.arange(d_total[0], d_total[0] + width)\n",
    "        ycoords_interp = np.arange(d_total[1], d_total[1] + height)\n",
    "        \n",
    "        Jgd   = interp_spline(ycoords, xcoords, Jg)  (ycoords_interp, xcoords_interp, grid=True)\n",
    "        Jgdxd = interp_spline(ycoords, xcoords, Jgdx)(ycoords_interp, xcoords_interp, grid=True)\n",
    "        Jgdyd = interp_spline(ycoords, xcoords, Jgdy)(ycoords_interp, xcoords_interp, grid=True)\n",
    "    \n",
    "    return d_total"
   ]
  },
  {
   "cell_type": "markdown",
   "id": "9264bd31",
   "metadata": {},
   "source": [
    "Verifique que sua implementação funcione corretamente. Para isso, use a função `get_cameraman()` para obter `I`, `J` e `dTrue`.\n",
    "`I` é a imagem original, `J` é uma versão deslocada da mesma imagem, e `dTrue` é um vetor descrevendo o deslocamento entre as imagens.\n",
    "Rastreie uma região com `[altura, largura] = [70, 40]` centrada ao redor de `[linha, coluna] = [85, 120]`.\n",
    "Ao testar sua implementação, seu deslocamento estimado $d$ deveria estar perto de `dTrue`, mesmo após a primeira iteração.\n",
    "Verifique que a estimativa do deslocamento melhore ao realizar várias iterações.\n",
    "\n",
    "**Perguntas:** Quais são os deslocamentos estimados após a primeira e segunda iteração? Qual é o deslocamento real?"
   ]
  },
  {
   "cell_type": "code",
   "execution_count": null,
   "id": "51ba842d",
   "metadata": {},
   "outputs": [],
   "source": [
    "I, J, dTrue = lab3.get_cameraman()\n",
    "d = estimar_d(I, J, 120, 85, (40, 70), 7, 0.5, maxIter=2)\n",
    "\n",
    "print('Valor real d     :  (%.16f, %.16f)' % dTrue)\n",
    "print('Valor estimado d : ', tuple(d.ravel()))"
   ]
  },
  {
   "cell_type": "code",
   "execution_count": null,
   "id": "d2def7bc",
   "metadata": {},
   "outputs": [],
   "source": [
    "# Escreva aqui sua resposta"
   ]
  },
  {
   "cell_type": "markdown",
   "id": "5f425a72",
   "metadata": {},
   "source": [
    "# Referências\n",
    "\n",
    "\\[1\\] Björn Johansson. Derivation of the Lucas-Kanade Tracker. 2007."
   ]
  }
 ],
 "metadata": {
  "kernelspec": {
   "display_name": "Python 3 (ipykernel)",
   "language": "python",
   "name": "python3"
  },
  "language_info": {
   "codemirror_mode": {
    "name": "ipython",
    "version": 3
   },
   "file_extension": ".py",
   "mimetype": "text/x-python",
   "name": "python",
   "nbconvert_exporter": "python",
   "pygments_lexer": "ipython3",
   "version": "3.10.12"
  }
 },
 "nbformat": 4,
 "nbformat_minor": 5
}
