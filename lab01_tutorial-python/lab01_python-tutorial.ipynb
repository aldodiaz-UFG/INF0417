{
 "cells": [
  {
   "cell_type": "markdown",
   "metadata": {},
   "source": [
    "# INF0417 - Visão computacional\n",
    "## Processamento de imagens em Python"
   ]
  },
  {
   "cell_type": "markdown",
   "metadata": {},
   "source": [
    "# 1. Introdução\n",
    "Em python, precisamos importar os pacotes que forneçam as funcionalidades que queremos. \\\n",
    "Neste curso vamos usar muito os pacotes `numpy`, `scipy` e `matplotlib`. \\\n",
    "Vamos importá-los!"
   ]
  },
  {
   "cell_type": "code",
   "execution_count": null,
   "metadata": {},
   "outputs": [],
   "source": [
    "import numpy as np\n",
    "import scipy\n",
    "from matplotlib import pyplot as plt\n",
    "\n",
    "# plt.rcParams['figure.figsize'] = (10, 10)"
   ]
  },
  {
   "cell_type": "markdown",
   "metadata": {},
   "source": [
    "`numpy` nos permite trabalhar com `num`eros em `py`thon! \\\n",
    "Ele é ótimo para trabalhar com vetores e matrizes. \\\n",
    "Vejamos como criar um vetor:"
   ]
  },
  {
   "cell_type": "code",
   "execution_count": null,
   "metadata": {},
   "outputs": [],
   "source": [
    "vetor_linha = np.array([[1, 2, 3]], dtype=float)"
   ]
  },
  {
   "cell_type": "markdown",
   "metadata": {},
   "source": [
    "Tudo em `numpy` é um *array*, e arrays têm:\n",
    "\n",
    "- `dtype`: Descreve o tipo de números presentes no arranjo (*e.g.*, `float`, `int`, `bool`)\n",
    "\n",
    "- `shape`: Descreve as dimensões do arranjo\n",
    "\n",
    "- `size`: Descreve o tamanho do arranjo (número de elementos no array)"
   ]
  },
  {
   "cell_type": "code",
   "execution_count": null,
   "metadata": {},
   "outputs": [],
   "source": [
    "vetor_linha.dtype"
   ]
  },
  {
   "cell_type": "code",
   "execution_count": null,
   "metadata": {},
   "outputs": [],
   "source": [
    "vetor_linha.shape"
   ]
  },
  {
   "cell_type": "code",
   "execution_count": null,
   "metadata": {},
   "outputs": [],
   "source": [
    "vetor_linha.size"
   ]
  },
  {
   "cell_type": "markdown",
   "metadata": {},
   "source": [
    "# 2. Operações\n",
    "Podemos **somar** e **subtrair** matrizes facilmente:"
   ]
  },
  {
   "cell_type": "code",
   "execution_count": null,
   "metadata": {},
   "outputs": [],
   "source": [
    "vetor_linha + vetor_linha"
   ]
  },
  {
   "cell_type": "code",
   "execution_count": null,
   "metadata": {},
   "outputs": [],
   "source": [
    "vetor_linha - vetor_linha"
   ]
  },
  {
   "cell_type": "markdown",
   "metadata": {},
   "source": [
    "E quanto à **multiplicação de matrizes**?"
   ]
  },
  {
   "cell_type": "code",
   "execution_count": null,
   "metadata": {},
   "outputs": [],
   "source": [
    "vetor_linha @ (vetor_linha.T) # Multiplicacao de matrices, o mesmo que o operador * no MATLAB"
   ]
  },
  {
   "cell_type": "markdown",
   "metadata": {},
   "source": [
    "E à **multiplicação elemento a elemento** (*i.e.*, [o produto de Hadamard](https://en.wikipedia.org/wiki/Hadamard_product_(matrices)))?"
   ]
  },
  {
   "cell_type": "code",
   "execution_count": null,
   "metadata": {},
   "outputs": [],
   "source": [
    "vetor_linha * vetor_linha # Multiplicação elemento a elemento, o mesmo que o operador .* no MATLAB"
   ]
  },
  {
   "cell_type": "markdown",
   "metadata": {},
   "source": [
    "**Tarefa 1**: O que `.T` faz com o arranjo?"
   ]
  },
  {
   "cell_type": "markdown",
   "metadata": {},
   "source": [
    "**Resposta**: "
   ]
  },
  {
   "cell_type": "markdown",
   "metadata": {},
   "source": [
    "Basicamente, podemos realizar muitas operações matemáticas chamando a função `numpy` apropriada:"
   ]
  },
  {
   "cell_type": "code",
   "execution_count": null,
   "metadata": {},
   "outputs": [],
   "source": [
    "x = np.linspace(0, 2*np.pi, num=100)\n",
    "y = np.sin(x)\n",
    "plt.plot(x, y) # Aqui usamos matplotlib, que foi importada acima\n",
    "plt.show()"
   ]
  },
  {
   "cell_type": "markdown",
   "metadata": {},
   "source": [
    "## 2.1 Indexação\n",
    "No caso mais simples, queremos acessar um único índice do vetor:"
   ]
  },
  {
   "cell_type": "code",
   "execution_count": null,
   "metadata": {},
   "outputs": [],
   "source": [
    "ind = 0 # Arranjos começam no índice 0 (!)\n",
    "x[ind]"
   ]
  },
  {
   "cell_type": "markdown",
   "metadata": {},
   "source": [
    "Também podemos querer os primeiros 10 elementos. \\\n",
    "Isso se chama **fatiar**!"
   ]
  },
  {
   "cell_type": "code",
   "execution_count": null,
   "metadata": {},
   "outputs": [],
   "source": [
    "x[0:10]"
   ]
  },
  {
   "cell_type": "markdown",
   "metadata": {},
   "source": [
    "Também podemos querer recuperar cada segundo índice:"
   ]
  },
  {
   "cell_type": "code",
   "execution_count": null,
   "metadata": {},
   "outputs": [],
   "source": [
    "x[::2] # Abreviação de x[0: -1: 2], onde -1 é a abreviação de \"o último elemento de x\""
   ]
  },
  {
   "cell_type": "markdown",
   "metadata": {},
   "source": [
    "**Tarefa 2**: Agora queremos obter cada terceiro índice de $\\Large x$, começando no índice 5. \\\n",
    "Forneça o comando apropriado abaixo:"
   ]
  },
  {
   "cell_type": "code",
   "execution_count": null,
   "metadata": {},
   "outputs": [],
   "source": [
    "# Sua resposta"
   ]
  },
  {
   "cell_type": "markdown",
   "metadata": {},
   "source": [
    "## 2.2 Indexação Booleana\n",
    "Digamos que queremos pegar todos os valores de $\\Large x$, onde $\\Large y<0$. \\\n",
    "Então podemos usar a **indexação booleana**, e é super simples!"
   ]
  },
  {
   "cell_type": "code",
   "execution_count": null,
   "metadata": {},
   "outputs": [],
   "source": [
    "x[y<0]"
   ]
  },
  {
   "cell_type": "code",
   "execution_count": null,
   "metadata": {},
   "outputs": [],
   "source": [
    "plt.scatter(x[y<0], y[y<0])\n",
    "plt.show()"
   ]
  },
  {
   "cell_type": "markdown",
   "metadata": {},
   "source": [
    "**Tarefa 3**: Agora queremos indexar todos os valores de $\\Large (x,y)$ de forma que $\\Large y^2 < 0.5$. \\\n",
    "Forneça o código apropriado abaixo."
   ]
  },
  {
   "cell_type": "code",
   "execution_count": null,
   "metadata": {},
   "outputs": [],
   "source": [
    "# Sua resposta\n"
   ]
  },
  {
   "cell_type": "markdown",
   "metadata": {},
   "source": [
    "## 2.3 Indexação multidimensional\n",
    "A indexação funciona basicamente da mesma forma!"
   ]
  },
  {
   "cell_type": "code",
   "execution_count": null,
   "metadata": {},
   "outputs": [],
   "source": [
    "x = np.array([[1,2,3], [4,5,6], [7,8,9]])\n",
    "\n",
    "print(x)"
   ]
  },
  {
   "cell_type": "code",
   "execution_count": null,
   "metadata": {},
   "outputs": [],
   "source": [
    "x[0:2, 0:2] # Seleciona um bloco 2x2"
   ]
  },
  {
   "cell_type": "markdown",
   "metadata": {},
   "source": [
    "## 2.4 Imagens\n",
    "Felizmente para nós, imagens são *arrays*, então os comandos acima também aplicam a imagens! \\\n",
    "Começamos mostrando algumas maneiras de carregar imagens em python. \\\n",
    "Começamos usando `matplotlib` para carregar uma imagem."
   ]
  },
  {
   "cell_type": "code",
   "execution_count": null,
   "metadata": {},
   "outputs": [],
   "source": [
    "image_mpl = plt.imread('capybaras.png')\n",
    "\n",
    "plt.imshow(image_mpl) # Mostra algumas capivaras\n",
    "plt.show()"
   ]
  },
  {
   "cell_type": "markdown",
   "metadata": {},
   "source": [
    "Outra maneira é com o **OpenCV**. \\\n",
    "A imagem é automaticamente transformada em uma matriz `numpy`, porém com um modelo de cor BGR em vez de RGB."
   ]
  },
  {
   "cell_type": "code",
   "execution_count": null,
   "metadata": {},
   "outputs": [],
   "source": [
    "import cv2\n",
    "\n",
    "image_cv2 = cv2.imread('capybaras.png')\n",
    "plt.imshow(image_cv2) # Agora as capivaras são azuis, pois o OpenCV usa BGR em vez de RGB\n",
    "plt.show()"
   ]
  },
  {
   "cell_type": "markdown",
   "metadata": {},
   "source": [
    "Também podemos usar **PIL**. \\\n",
    "A imagem não é transformada em um array `numpy` automaticamente, mas podemos convertê-la facilmente."
   ]
  },
  {
   "cell_type": "code",
   "execution_count": null,
   "metadata": {},
   "outputs": [],
   "source": [
    "from PIL import Image\n",
    "\n",
    "image_pil = Image.open('capybaras.png')\n",
    "print(image_pil)\n",
    "\n",
    "plt.imshow(image_pil)\n",
    "plt.show()"
   ]
  },
  {
   "cell_type": "code",
   "execution_count": null,
   "metadata": {},
   "outputs": [],
   "source": [
    "image_pil = np.array(image_pil) # Converte um objeto PIL em um array numpy\n",
    "print(image_pil)\n",
    "\n",
    "plt.imshow(image_pil)\n",
    "plt.show()"
   ]
  },
  {
   "cell_type": "markdown",
   "metadata": {},
   "source": [
    "**Tarefa 4**: Qual é o tipo de dado da imagem e quais as suas dimensões? \\\n",
    "Quais são os valores de intensidades máxima e mínima?"
   ]
  },
  {
   "cell_type": "markdown",
   "metadata": {},
   "source": [
    "**Resposta**:\n"
   ]
  },
  {
   "cell_type": "markdown",
   "metadata": {},
   "source": [
    "# 3. Criando um filtro 2D\n",
    "Muitas vezes queremos filtrar nossas imagens como parte do processamento. \\\n",
    "Vamos criar um **filtro de desfoque Gaussiano** (*Gaussian blur*) com `numpy`! \\\n",
    "O filtro Gaussiano age como **filtro passa-baixa** (*low-pass filter*) ou **fitro de *smoothing***, pois ele filtra as frequências altas da imagem."
   ]
  },
  {
   "cell_type": "code",
   "execution_count": null,
   "metadata": {},
   "outputs": [],
   "source": [
    "kernel_size = 13\n",
    "\n",
    "coords = np.linspace(-(kernel_size//2), kernel_size//2, num=kernel_size) # Vetor de coordenadas do filtro de tamanho N=kernel_size\n",
    "(x, y) = np.meshgrid(coords, coords)"
   ]
  },
  {
   "cell_type": "markdown",
   "metadata": {},
   "source": [
    "Acabamos de criar um *meshgrid* (malha ou grade)! \\\n",
    "Você pode pensar nele como um array contendo todas as coordenadas $\\Large (x, y)$ do filtro."
   ]
  },
  {
   "cell_type": "code",
   "execution_count": null,
   "metadata": {},
   "outputs": [],
   "source": [
    "plt.imshow(x) # Observe que o eixo x cresce para a direita\n",
    "plt.colorbar()\n",
    "plt.show()"
   ]
  },
  {
   "cell_type": "code",
   "execution_count": null,
   "metadata": {},
   "outputs": [],
   "source": [
    "plt.imshow(y) # Observe que o eixo y cresce para baixo!\n",
    "plt.colorbar()\n",
    "plt.show()"
   ]
  },
  {
   "cell_type": "markdown",
   "metadata": {},
   "source": [
    "Agora queremos criar um filtro Gaussiano nesta grade!"
   ]
  },
  {
   "cell_type": "markdown",
   "metadata": {},
   "source": [
    "**Tarefa 5**: A equação para um filtro Gaussiano é\n",
    "$$\n",
    "\\Large \\exp \\left( \\frac{-(x^2+y^2)}{2\\sigma^2} \\right)\n",
    "$$ \\\n",
    "Vamos supor que $\\Large \\sigma=1$. \\\n",
    "Como você pode escrever isso em `numpy`? \\\n",
    "Escreva o código abaixo. \\\n",
    "*Dica*: Em `numpy`, a função $\\Large \\exp(\\cdot)$ pode ser escrita como `np.exp()` e $\\Large x^2$ pode ser escrito como `x**2`."
   ]
  },
  {
   "cell_type": "code",
   "execution_count": null,
   "metadata": {},
   "outputs": [],
   "source": [
    "lp_filter = ... # Responda aqui"
   ]
  },
  {
   "cell_type": "markdown",
   "metadata": {},
   "source": [
    "Além disso, queremos que o filtro some 1, para garantir que a imagem não fique super clara ou escura!"
   ]
  },
  {
   "cell_type": "code",
   "execution_count": null,
   "metadata": {},
   "outputs": [],
   "source": [
    "lp_filter = ... # Filtro Gaussiano normalizado 2-D"
   ]
  },
  {
   "cell_type": "code",
   "execution_count": null,
   "metadata": {},
   "outputs": [],
   "source": [
    "plt.imshow(lp_filter)\n",
    "plt.show()"
   ]
  },
  {
   "cell_type": "markdown",
   "metadata": {},
   "source": [
    "# 4. Convolvendo nosso filtro com a imagem\n",
    "Agora que (com um pouco de sorte) temos um filtro passa-baixa funcionando, vamos realizar o [processo de filtragem da imagem](https://en.wikipedia.org/wiki/Kernel_(image_processing)) pela [**convolução**](https://en.wikipedia.org/wiki/Convolution) do nosso filtro com a imagem da capivara! \\\n",
    "Primeiro, vamos importar a função `conv2` do pacote `scipy` para realizar a **convolução**."
   ]
  },
  {
   "cell_type": "code",
   "execution_count": null,
   "metadata": {},
   "outputs": [],
   "source": [
    "from scipy.signal import convolve2d as conv2"
   ]
  },
  {
   "cell_type": "markdown",
   "metadata": {},
   "source": [
    "Agora vamos fazer a convolução!"
   ]
  },
  {
   "cell_type": "code",
   "execution_count": null,
   "metadata": {},
   "outputs": [],
   "source": [
    "image_lp = conv2(image_pil, lp_filter, mode='same')"
   ]
  },
  {
   "cell_type": "markdown",
   "metadata": {},
   "source": [
    "Opa! Deu problema, nossas capivaras são coloridas! \\\n",
    "Isso significa que elas são tecnicamente matrizes 3D. \\\n",
    "Uma maneira fácil de corrigir este problema é fazer a convolução separadamente para cada canal de cor."
   ]
  },
  {
   "cell_type": "markdown",
   "metadata": {},
   "source": [
    "**Tarefa 6**: Convolva a imagem da capivara separadamente para cada canal de cor abaixo."
   ]
  },
  {
   "cell_type": "code",
   "execution_count": null,
   "metadata": {},
   "outputs": [],
   "source": [
    "image_lp_r = ... # Aqui está como fazer isso para o canal vermelho\n",
    "image_lp_g = ... # Faça a convolução para o canal verde\n",
    "image_lp_b = ... # e para o azul"
   ]
  },
  {
   "cell_type": "markdown",
   "metadata": {},
   "source": [
    "Quando temos vários arrays `numpy`, podemos *empilha-los* juntos, para obter um array combinado. \\\n",
    "Nota: Certifique-se de lembrar em qual dimensão você os empilha! \\\n",
    "Isso pode ser selecionado pelo parâmetro *axis* na função `np.stack`"
   ]
  },
  {
   "cell_type": "code",
   "execution_count": null,
   "metadata": {},
   "outputs": [],
   "source": [
    "image_lp = np.stack((image_lp_r, image_lp_g, image_lp_b), axis=-1)\n",
    "image_lp.shape"
   ]
  },
  {
   "cell_type": "markdown",
   "metadata": {},
   "source": [
    "Então, vamos mostrar nossa bela imagem resultante!"
   ]
  },
  {
   "cell_type": "code",
   "execution_count": null,
   "metadata": {},
   "outputs": [],
   "source": [
    "plt.imshow(image_lp) # uhoh...\n",
    "plt.show()"
   ]
  },
  {
   "cell_type": "markdown",
   "metadata": {},
   "source": [
    "Infelizmente, não era para ser =( \\\n",
    "Você deve se lembrar que a imagem tinha valores entre $\\Large [0, 255]$ e era do tipo `uint8`. \\\n",
    "Quando a convolvemos, o tipo de dado tornou-se `float`, e agora a `matplotlib` está nos dizendo que nossa imagem é estranha."
   ]
  },
  {
   "cell_type": "code",
   "execution_count": null,
   "metadata": {},
   "outputs": [],
   "source": [
    "plt.imshow(...) # A maneira mais fácil é simplesmente dividir a imagem por 255\n",
    "plt.show()"
   ]
  },
  {
   "cell_type": "code",
   "execution_count": null,
   "metadata": {},
   "outputs": [],
   "source": [
    "plt.imshow(...) # Ou, também podemos convertê-la de volta para uint8!\n",
    "plt.show()"
   ]
  },
  {
   "cell_type": "markdown",
   "metadata": {},
   "source": [
    "# 5. Domínio de frequência (Fourier)\n",
    "Você deve ter notado que a convolução foi um pouco lenta. \\\n",
    "Como a imagem é muito grande e o kernel também é muito grande, ela é bastante cara computacionalmente. \\\n",
    "Uma maneira mais rápida poderia ser fazendo a convolução no domínio de Fourier! \\\n",
    "Lembre-se que:\n",
    "$$\n",
    "\\Large f*g = \\mathcal{F}^{-1}\\{F \\cdot G\\}\n",
    "$$"
   ]
  },
  {
   "cell_type": "code",
   "execution_count": null,
   "metadata": {},
   "outputs": [],
   "source": [
    "# Calcule a transformada de Fourier da imagem\n",
    "f_image_pil_r = ...\n",
    "f_image_pil_g = ...\n",
    "f_image_pil_b = ..."
   ]
  },
  {
   "cell_type": "code",
   "execution_count": null,
   "metadata": {},
   "outputs": [],
   "source": [
    "# Transformada de Fourier do filtro\n",
    "# Note que o filtro DEVE TER o mesmo tamanho da imagem!!!\n",
    "zero_padded_lp_filter = np.zeros(image_pil[:, :, 0].shape, dtype=float)\n",
    "\n",
    "# Aqui nós deslocamos implicitamente o filtro (no canto superior esquerdo da imagem)\n",
    "zero_padded_lp_filter[:kernel_size, :kernel_size] = lp_filter\n",
    "plt.figure(figsize=(4.5, 4.5))\n",
    "plt.imshow(zero_padded_lp_filter[:kernel_size, :kernel_size])\n",
    "\n",
    "# Plotamos o espectro de magnitude (centralizado) da DFT na escala logarítimica\n",
    "IM = np.fft.fft2(zero_padded_lp_filter)\n",
    "# IM = np.fft.fftshift(IM)\n",
    "IMmag = np.log(np.abs(IM) + 1) # FFT na escala log\n",
    "\n",
    "fig = plt.figure(figsize=(40, 40))\n",
    "ax = fig.gca()\n",
    "plt.imshow(IMmag, cmap='gray')\n",
    "ax.set_xticks([])\n",
    "ax.set_yticks([])\n",
    "\n",
    "# Então, precisamos colocá-lo de volta no lugar!\n",
    "zero_padded_lp_filter = np.roll(zero_padded_lp_filter, shift=(-(kernel_size//2), -(kernel_size//2)), axis=(0,1))\n",
    "\n",
    "# Plotamos o espectro de magnitude (centralizado) da DFT na escala logarítimica\n",
    "IM = np.fft.fft2(zero_padded_lp_filter)\n",
    "# IM = np.fft.fftshift(IM)\n",
    "IMmag = np.log(np.abs(IM) + 1) # FFT na escala log\n",
    "\n",
    "fig = plt.figure(figsize=(40, 40))\n",
    "ax = fig.gca()\n",
    "plt.imshow(IMmag, cmap='gray')\n",
    "ax.set_xticks([])\n",
    "ax.set_yticks([])\n",
    "\n",
    "plt.figure()\n",
    "plt.subplot(2, 2, 1)\n",
    "plt.imshow(zero_padded_lp_filter[:kernel_size, :kernel_size])\n",
    "plt.title('Canto superior esquerdo')\n",
    "plt.subplot(2, 2, 2)\n",
    "plt.imshow(zero_padded_lp_filter[-kernel_size:, :kernel_size])\n",
    "plt.title('Canto superior direito')\n",
    "plt.subplot(2, 2, 3)\n",
    "plt.imshow(zero_padded_lp_filter[:kernel_size, -kernel_size:])\n",
    "plt.title('Canto inferior esquerdo')\n",
    "plt.subplot(2, 2, 4)\n",
    "plt.imshow(zero_padded_lp_filter[-kernel_size:, -kernel_size:])\n",
    "plt.title('Canto inferior direito')\n",
    "plt.show()\n",
    "\n",
    "# Transformada de Fourier do filtro\n",
    "f_lp_filter = np.fft.fft2(zero_padded_lp_filter)"
   ]
  },
  {
   "cell_type": "markdown",
   "metadata": {},
   "source": [
    "**Tarefa 7**: Agora multiplique e faça a transformada inversa para cada canal! \\\n",
    "*Dica*: A transformação inversa é `np.fft.ifft2`"
   ]
  },
  {
   "cell_type": "code",
   "execution_count": null,
   "metadata": {},
   "outputs": [],
   "source": [
    "image_lp_r_fast = ... # Responda aqui\n",
    "image_lp_g_fast = ... # Responda aqui\n",
    "image_lp_b_fast = ... # Responda aqui"
   ]
  },
  {
   "cell_type": "markdown",
   "metadata": {},
   "source": [
    "**Tarefa 8**: Empilhe os canais como você fez antes."
   ]
  },
  {
   "cell_type": "code",
   "execution_count": null,
   "metadata": {},
   "outputs": [],
   "source": [
    "image_lp_fast = ... # Responda aqui"
   ]
  },
  {
   "cell_type": "code",
   "execution_count": null,
   "metadata": {},
   "outputs": [],
   "source": [
    "plt.imshow(...) # Também podemos convertê-la de volta para uint8!\n",
    "# Perceba que precisamos plotar somente a parte real de image_lp_fast que contem números complexos do tipo z = real + j*imag\n",
    "plt.show()"
   ]
  },
  {
   "cell_type": "markdown",
   "metadata": {},
   "source": [
    "**Verifique**: Parece a imagem basicamente idêntica às anteriores? \\\n",
    "Por quê?"
   ]
  },
  {
   "cell_type": "markdown",
   "metadata": {},
   "source": [
    "# 6. Material de apoio para os laboratórios\n",
    "\n",
    "Isso foi basicamente o tutorial básico de processamento de imagens. \\\n",
    "No entanto, há ainda uma infinidade de coisas por saber. \\\n",
    "Veja o compêndio de dicas de [`numpy`](http://datacamp-community-prod.s3.amazonaws.com/ba1fe95a-8b70-4d2f-95b0-bc954e9071b0)\n",
    "e algumas [operações de álgebra linear mais avançadas](https://gist.github.com/Parskatt/18a7db9784a43aa598e59f21412b4ec2). \\\n",
    "A seguir, vamos revisar alguns materiais que poderam ajudá-lo com os laboratórios da disciplina."
   ]
  },
  {
   "cell_type": "markdown",
   "metadata": {},
   "source": [
    "## 6.1 Laboratório 1\n",
    "No Laboratório 1, você construirá um **filtro de derivadas regularizado**. \\\n",
    "Este filtro decorre do [fato de que](https://en.wikipedia.org/wiki/Convolution#Differentiation):\n",
    "$$\n",
    "\\Large \\frac{\\partial}{\\partial x} (f*g(\\sigma)) (x) = \\left( f*\\frac{\\partial}{\\partial x} g(\\sigma) \\right) ( x) = (f*\\underbrace{\\frac{-x}{\\sigma^2} g(\\sigma)}_{\\text{d}f} ) (x)\n",
    "$$\n",
    "onde:\n",
    "$$\n",
    "\\Large g = \\exp \\left( -\\frac{x^2}{2\\sigma^2} \\right)\n",
    "$$.\n",
    "\n",
    "Então, usamos o filtro:\n",
    "$$\n",
    "\\Large \\text{d}f = \\frac{-x}{\\sigma^2}g(\\sigma)$$\n",
    "e o convolvemos com o nosso sinal $\\Large f$.\n",
    "\n",
    "Além disso, [***este filtro é separável quando está na sua versão 2D***](https://en.wikipedia.org/wiki/Separable_filter), o que é ótimo porque, dado que\n",
    "$$\n",
    "\\Large \\text{d}f(x,y) = \\text{d}f(x)g(y)\n",
    "$$\n",
    "então\n",
    "$$\n",
    "\\Large f * \\text{d} f = (f * \\text{d} f(x)) * g(y)\n",
    "$$\n",
    "\n",
    "Assim, podemos realizar nossa convolução 2D, que escala **quadraticamente** com o tamanho do *kernel* (*aka.* filtro), e compô-la em 2 convoluções separadas, que escalam apenas **linearmente**!"
   ]
  },
  {
   "cell_type": "code",
   "execution_count": null,
   "metadata": {},
   "outputs": [],
   "source": [
    "kernel_size = 7\n",
    "sigma = 1.5\n",
    "x = np.linspace(-(kernel_size//2), kernel_size//2, num=kernel_size)[np.newaxis, :] # Cria um vetor de tamanho 1xN (onde N é igual a kernel_size)\n",
    "g = np.exp(-x**2 / (2 * sigma**2)) # Filtro Gaussiano 1-D\n",
    "g = g / np.sum(g) # Filtro Gaussiano normalizado 1-D\n",
    "df = -x * g / (sigma**2)"
   ]
  },
  {
   "cell_type": "code",
   "execution_count": null,
   "metadata": {},
   "outputs": [],
   "source": [
    "plt.plot(x[0], df[0])\n",
    "plt.show()"
   ]
  },
  {
   "cell_type": "markdown",
   "metadata": {},
   "source": [
    "É muuuuito importante que nosso filtro seja **simétrico**."
   ]
  },
  {
   "cell_type": "markdown",
   "metadata": {},
   "source": [
    "**Tarefa 9**: Explique por que o filtro não é simétrico se o tamanho do kernel for par! \\\n",
    "*Dica*: Tente alterar o tamanho do kernel acima e veja o que acontece :)"
   ]
  },
  {
   "cell_type": "markdown",
   "metadata": {},
   "source": [
    "**Resposta**: "
   ]
  },
  {
   "cell_type": "markdown",
   "metadata": {},
   "source": [
    "Abaixo, mostramos como realizar a convolução e a imagem da derivada resultante"
   ]
  },
  {
   "cell_type": "code",
   "execution_count": null,
   "metadata": {},
   "outputs": [],
   "source": [
    "image_pil = Image.open('capybaras.png')\n",
    "image_pil_gray = np.mean(np.array(image_pil), axis=-1)\n",
    "dx = conv2(conv2(image_pil_gray, df, mode='same'), g.T, mode='same')\n",
    "dy = conv2(conv2(image_pil_gray, df.T, mode='same'), g, mode='same')"
   ]
  },
  {
   "cell_type": "code",
   "execution_count": null,
   "metadata": {},
   "outputs": [],
   "source": [
    "plt.figure(figsize=(20, 20))\n",
    "plt.subplot(1, 2, 1)\n",
    "plt.imshow(dx, cmap='gray')\n",
    "plt.subplot(1, 2, 2)\n",
    "plt.imshow(dy, cmap='gray')\n",
    "plt.show()"
   ]
  },
  {
   "cell_type": "markdown",
   "metadata": {},
   "source": [
    "## 6.2 Laboratório 2\n",
    "\n",
    "No Laboratório 2 você usará a paleta de cores da função `gopimage` para visualização. \\\n",
    "Ela utiliza uma complexa representação das imagens."
   ]
  },
  {
   "cell_type": "code",
   "execution_count": null,
   "metadata": {
    "scrolled": true
   },
   "outputs": [],
   "source": [
    "from INF0417 import gopimage\n",
    "\n",
    "z = dx + 1j*dy\n",
    "\n",
    "gopimage(z, figsize=(20, 20)) # Você deve ver (partes de) uma capivara colorida e ruidosa"
   ]
  },
  {
   "cell_type": "markdown",
   "metadata": {},
   "source": [
    "Enquanto a imagem acima é muito bonita, ela é bastante ruidosa! \\\n",
    "Em vez disso, podemos olhar para uma representação melhor, *e.g.*, o ***tensor de estrutura***!"
   ]
  },
  {
   "cell_type": "code",
   "execution_count": null,
   "metadata": {},
   "outputs": [],
   "source": [
    "T = np.zeros_like(image_pil)\n",
    "Tlp = np.zeros_like(T)\n",
    "T[:, :, 0] = dx * dx\n",
    "T[:, :, 1] = dx * dy\n",
    "T[:, :, 2] = dy * dy"
   ]
  },
  {
   "cell_type": "code",
   "execution_count": null,
   "metadata": {},
   "outputs": [],
   "source": [
    "sigma = 1.0\n",
    "kernel_size = 25\n",
    "lp = np.exp(-0.5*(np.linspace(-(kernel_size//2), kernel_size//2, num=kernel_size) / sigma)**2)[np.newaxis, :]\n",
    "lp = lp / np.sum(lp) # Normaliza o filtro\n",
    "Tlp[:, :, 0] = conv2(conv2(T[:, :, 0], lp, mode ='same'), lp.T, mode ='same')\n",
    "Tlp[:, :, 1] = conv2(conv2(T[:, :, 1], lp, mode ='same'), lp.T, mode ='same')\n",
    "Tlp[:, :, 2] = conv2(conv2(T[:, :, 2], lp, mode ='same'), lp.T, mode ='same')"
   ]
  },
  {
   "cell_type": "code",
   "execution_count": null,
   "metadata": {},
   "outputs": [],
   "source": [
    "z = Tlp[:, :, 0] - Tlp[:, :, 2] + 2j*Tlp[:, :, 1]"
   ]
  },
  {
   "cell_type": "code",
   "execution_count": null,
   "metadata": {},
   "outputs": [],
   "source": [
    "gopimage(z, figsize=(20, 20)) # Você deve ver (partes de) uma capivara colorida"
   ]
  },
  {
   "cell_type": "markdown",
   "metadata": {},
   "source": [
    "Observe que as cores aqui podem ser ligeiramente diferentes do que é o apresentado em aula. \\\n",
    "Uma diferença pode vir do fato de que o eixo $y$ é direcionado para abaixo."
   ]
  },
  {
   "cell_type": "markdown",
   "metadata": {},
   "source": [
    "**Tarefa 10**: Altere a direção do eixo $y$ (*e.g.*, invertendo a direção do filtro) e plote $z$ novamente. O que acontece?"
   ]
  },
  {
   "cell_type": "code",
   "execution_count": null,
   "metadata": {},
   "outputs": [],
   "source": [
    "# Escreva aqui a resposta\n",
    "dx = ...\n",
    "dy = ...\n",
    "\n",
    "T = np.zeros_like(image_pil)\n",
    "Tlp = np.zeros_like(T)\n",
    "T[:, :, 0] = dx * dx\n",
    "T[:, :, 1] = dx * dy\n",
    "T[:, :, 2] = dy * dy"
   ]
  },
  {
   "cell_type": "code",
   "execution_count": null,
   "metadata": {},
   "outputs": [],
   "source": [
    "sigma = 1.0\n",
    "kernel_size = 25\n",
    "lp = np.exp(-0.5*(np.linspace(-(kernel_size//2), kernel_size//2, num=kernel_size) / sigma)**2)[np.newaxis, :]\n",
    "lp = lp / np.sum(lp) # Normaliza o filtro\n",
    "Tlp[:, :, 0] = conv2(conv2(T[:, :, 0], lp, mode ='same'), lp.T, mode ='same')\n",
    "Tlp[:, :, 1] = conv2(conv2(T[:, :, 1], lp, mode ='same'), lp.T, mode ='same')\n",
    "Tlp[:, :, 2] = conv2(conv2(T[:, :, 2], lp, mode ='same'), lp.T, mode ='same')"
   ]
  },
  {
   "cell_type": "code",
   "execution_count": null,
   "metadata": {},
   "outputs": [],
   "source": [
    "z = Tlp[:, :, 0] - Tlp[:, :, 2] + 2j*Tlp[:, :, 1]"
   ]
  },
  {
   "cell_type": "code",
   "execution_count": null,
   "metadata": {},
   "outputs": [],
   "source": [
    "gopimage(z, figsize=(20, 20)) # Você deve ver (partes de) uma capivara colorida"
   ]
  },
  {
   "cell_type": "markdown",
   "metadata": {},
   "source": [
    "**Resposta**: "
   ]
  },
  {
   "cell_type": "markdown",
   "metadata": {},
   "source": [
    "**Tarefa 11**: O que acontece quando você aumenta o valor de `sigma`? O que acontece se você diminuir ele? Por quê?"
   ]
  },
  {
   "cell_type": "markdown",
   "metadata": {},
   "source": [
    "**Resposta**: "
   ]
  }
 ],
 "metadata": {
  "kernelspec": {
   "display_name": "Python 3 (ipykernel)",
   "language": "python",
   "name": "python3"
  },
  "language_info": {
   "codemirror_mode": {
    "name": "ipython",
    "version": 3
   },
   "file_extension": ".py",
   "mimetype": "text/x-python",
   "name": "python",
   "nbconvert_exporter": "python",
   "pygments_lexer": "ipython3",
   "version": "3.10.12"
  }
 },
 "nbformat": 4,
 "nbformat_minor": 4
}
