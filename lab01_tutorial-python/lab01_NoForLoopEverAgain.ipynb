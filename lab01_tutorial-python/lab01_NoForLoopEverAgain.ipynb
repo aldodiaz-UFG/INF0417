{
 "cells": [
  {
   "cell_type": "markdown",
   "id": "professional-opera",
   "metadata": {},
   "source": [
    "# Tutorial: Removendo for-loops e tornando seu código `numpy` mais legível"
   ]
  },
  {
   "cell_type": "markdown",
   "id": "invalid-allocation",
   "metadata": {},
   "source": [
    "## 1. Multiplicação de matrizes (e coisas semelhantes)\n",
    "\n",
    "Digamos que queremos multiplicar matrizes que existem em alguma *grade de tamanho arbitrário*. \\\n",
    "A maneira mais intuitiva de fazer isso é criar um loop $\\texttt{for}$ que percorra a grade:"
   ]
  },
  {
   "cell_type": "code",
   "execution_count": null,
   "id": "entire-intention",
   "metadata": {},
   "outputs": [],
   "source": [
    "import numpy as np\n",
    "\n",
    "H, W, i, j, k = 125, 133, 3, 4, 5 # Alguns números aleatórios\n",
    "\n",
    "def slow_for_loop(A, B):\n",
    "    C = np.zeros((H, W, i, k))\n",
    "    for h in range(H):\n",
    "        for w in range(W):\n",
    "            C[h, w] = A[h, w] @ B[h, w]\n",
    "    return C"
   ]
  },
  {
   "cell_type": "code",
   "execution_count": null,
   "id": "inappropriate-eligibility",
   "metadata": {},
   "outputs": [],
   "source": [
    "A = np.random.randn(H, W, i, j)\n",
    "B = np.random.randn(H, W, j, k)"
   ]
  },
  {
   "cell_type": "markdown",
   "id": "stopped-celebrity",
   "metadata": {},
   "source": [
    "A seguir, veremos quanto tempo essa função leva para ser executada"
   ]
  },
  {
   "cell_type": "code",
   "execution_count": null,
   "id": "initial-player",
   "metadata": {},
   "outputs": [],
   "source": [
    "%timeit slow_for_loop(A, B)"
   ]
  },
  {
   "cell_type": "markdown",
   "id": "essential-input",
   "metadata": {},
   "source": [
    "Esse tempo não é um bom resultado, especialmente se isso tiver que ser feito muitas vezes em seu programa. \\\n",
    "Pior ainda, se uma das matrizes estiver ordenada incorretamente (por exemplo, se B tiver a forma (H, W, k, j)), a função acima falhará imediatamente. \\\n",
    "Mas não se preocupe! \\\n",
    "Em vez disso, podemos usar $\\texttt{einsum}$!"
   ]
  },
  {
   "cell_type": "code",
   "execution_count": null,
   "id": "general-benefit",
   "metadata": {},
   "outputs": [],
   "source": [
    "%timeit np.einsum('hwij, hwjk -> hwik', A, B)"
   ]
  },
  {
   "cell_type": "markdown",
   "id": "connected-values",
   "metadata": {},
   "source": [
    "Aqui, a string que fornecemos à função $\\texttt{einsum}$ descreve exatamente a operação que aplicamos às entradas. \\\n",
    "Nesse caso, dizemos que A tem as dimensões (h, w, i, j) e B tem (h, w, j, k) e simplesmente dizemos que o resultado tem a dimensão (h, w, i, k). \\\n",
    "Isso é interpretado como uma multiplicação de A e B em que somamos todas as dimensões que não estão presentes no resultado. \\\n",
    "Como \"j\" não está presente na saída, sabemos que essa dimensão foi somada. \\\n",
    "Observe que isso é exatamente o mesmo que a multiplicação de matrizes em cada (h, w)!"
   ]
  },
  {
   "cell_type": "markdown",
   "id": "complex-wagner",
   "metadata": {},
   "source": [
    "## 2. Operações de Álgebra Linear mais avançadas\n",
    "Felizmente, as operações mais avançadas são automaticamente agrupadas no numpy.\n",
    "Vamos dar uma olhada em algumas!"
   ]
  },
  {
   "cell_type": "markdown",
   "id": "younger-helen",
   "metadata": {},
   "source": [
    "### Determinante"
   ]
  },
  {
   "cell_type": "code",
   "execution_count": null,
   "id": "increasing-transcription",
   "metadata": {},
   "outputs": [],
   "source": [
    "m, n = 3, 3\n",
    "C = np.random.randn(H, W, m, n)\n",
    "det = np.linalg.det(C)\n",
    "print(det.shape)"
   ]
  },
  {
   "cell_type": "markdown",
   "id": "significant-april",
   "metadata": {},
   "source": [
    "### Inversa/Solução de sistemas de equações"
   ]
  },
  {
   "cell_type": "code",
   "execution_count": null,
   "id": "blessed-mercy",
   "metadata": {},
   "outputs": [],
   "source": [
    "d = np.random.randn(H, W, n)\n",
    "e = np.einsum('hwmn, hwn -> hwm', C, d)\n",
    "Cinv = np.linalg.inv(C)\n",
    "d_1 = np.einsum('hwnm, hwm -> hwn', Cinv, e)\n",
    "d_2 = np.linalg.solve(C, e)\n",
    "\n",
    "print(np.linalg.norm(d - d_1)) # Aprox. zero\n",
    "print(np.linalg.norm(d - d_2)) # Aprox. zero"
   ]
  },
  {
   "cell_type": "markdown",
   "id": "isolated-burning",
   "metadata": {},
   "source": [
    "### Autovalores/Autovetores"
   ]
  },
  {
   "cell_type": "code",
   "execution_count": null,
   "id": "involved-saint",
   "metadata": {},
   "outputs": [],
   "source": [
    "lam, V = np.linalg.eig(C)\n",
    "print(lam.shape)\n",
    "print(V.shape)"
   ]
  },
  {
   "cell_type": "markdown",
   "id": "running-expense",
   "metadata": {},
   "source": [
    "### Traço da Matriz\n",
    "\n",
    "Por alguma razão, os autores do `numpy` decidiram que essa função deveria usar uma sintaxe completamente diferente."
   ]
  },
  {
   "cell_type": "code",
   "execution_count": null,
   "id": "august-accordance",
   "metadata": {},
   "outputs": [],
   "source": [
    "tr1 = np.trace(C, axis1=-2, axis2=-1)\n",
    "print(tr1.shape)\n",
    "\n",
    "# Também podemos usar a função einsum\n",
    "tr2 = np.einsum('hwpp -> hw', C)\n",
    "print(tr2.shape)\n",
    "print(np.linalg.norm(tr1 - tr2))"
   ]
  },
  {
   "cell_type": "markdown",
   "id": "infectious-safety",
   "metadata": {},
   "source": [
    "## 3. Estudo de caso: Uma operação difícil"
   ]
  },
  {
   "cell_type": "markdown",
   "id": "assumed-latvia",
   "metadata": {},
   "source": [
    "Digamos que temos uma matriz simétrica em cada ponto de uma grade. \\\n",
    "Queremos alterar essas matrizes. \\\n",
    "Em vez disso, queremos ter matrizes com os mesmos autovetores, mas cujos autovalores sejam os autovalores exponenciados e negados da matriz original. \\\n",
    "Fazer isso pode ser bastante complicado sem os loops $\\texttt{for}$, mas vamos tentar!"
   ]
  },
  {
   "cell_type": "code",
   "execution_count": null,
   "id": "digital-imaging",
   "metadata": {},
   "outputs": [],
   "source": [
    "N = 10\n",
    "J = np.random.randn(N, H, W, 2)\n",
    "T = np.einsum('nhwd, nhwD -> hwdD', J, J) # Cria um tensor simétrico somando os produtos externos de alguns vetores\n",
    "lam, V = np.linalg.eig(T)\n",
    "lam = np.exp(-lam)\n",
    "# Lembre-se de que T = V @ lam @ V^T, pois T é simétrico\n",
    "T_2 = np.einsum('hwij, hwj, hwkj -> hwik', V, lam, V)"
   ]
  },
  {
   "cell_type": "markdown",
   "id": "hairy-execution",
   "metadata": {},
   "source": [
    "E isso é tudo o que precisamos fazer! \\\n",
    "Para recapitular o código acima. \n",
    "1. Criamos uma matriz simétrica em cada ponto somando alguns produtos externos de vetores.\n",
    "2. Obtivemos a eigendecomposição em cada ponto\n",
    "3. Exponenciamos os valores negados de nossa matriz\n",
    "4. Reunimos a matriz novamente por multiplicação de matriz usando $\\texttt{einsum}$"
   ]
  },
  {
   "cell_type": "markdown",
   "id": "assigned-grammar",
   "metadata": {},
   "source": [
    "## 4. Notas finais"
   ]
  },
  {
   "cell_type": "markdown",
   "id": "grave-painting",
   "metadata": {},
   "source": [
    "Analisamos algumas operações padronizadas e vetorizadas da Álgebra Linear em $\\texttt{numpy}$ e mostramos que você pode fazer praticamente qualquer cálculo sem precisar recorrer a loops $\\texttt{for}$ desagradáveis :)\n",
    "\n",
    "Entretanto, aprender essa sintaxe leva tempo. \\\n",
    "Portanto, a recomendação é que você experimente vários desses tipos de operações e dê uma olhada em outras publicações de blogs sobre esse assunto:\n",
    "\n",
    "Mais informações sobre o $\\texttt{einsum}$: \\\n",
    "https://ajcr.net/Basic-guide-to-einsum/ \\\n",
    "e: https://rockt.github.io/2018/04/30/einsum"
   ]
  },
  {
   "cell_type": "code",
   "execution_count": null,
   "id": "d47accf9-3638-4433-a859-ec5908c87777",
   "metadata": {},
   "outputs": [],
   "source": []
  }
 ],
 "metadata": {
  "kernelspec": {
   "display_name": "Python 3 (ipykernel)",
   "language": "python",
   "name": "python3"
  },
  "language_info": {
   "codemirror_mode": {
    "name": "ipython",
    "version": 3
   },
   "file_extension": ".py",
   "mimetype": "text/x-python",
   "name": "python",
   "nbconvert_exporter": "python",
   "pygments_lexer": "ipython3",
   "version": "3.10.12"
  }
 },
 "nbformat": 4,
 "nbformat_minor": 5
}
